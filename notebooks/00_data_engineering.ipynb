{
 "cells": [
  {
   "cell_type": "code",
   "execution_count": 1,
   "id": "736994df",
   "metadata": {},
   "outputs": [
    {
     "name": "stdout",
     "output_type": "stream",
     "text": [
      "✅ Libraries imported.\n"
     ]
    }
   ],
   "source": [
    "# -------------------------------------------------------------\n",
    "# Step 1: Import necessary libraries\n",
    "# -------------------------------------------------------------\n",
    "import pandas as pd\n",
    "import matplotlib.pyplot as plt\n",
    "import seaborn as sns\n",
    "\n",
    "sns.set(style=\"whitegrid\")\n",
    "print(\"✅ Libraries imported.\")\n"
   ]
  },
  {
   "cell_type": "code",
   "execution_count": 2,
   "id": "62836f25",
   "metadata": {},
   "outputs": [
    {
     "name": "stdout",
     "output_type": "stream",
     "text": [
      "📥 Loading dataset...\n",
      "✅ Dataset loaded successfully!\n",
      "Initial data shape: (84, 7)\n",
      "\n",
      "🔍 Preview of data:\n",
      "     price  sqft  bedrooms  bathrooms    location  year_built  condition\n",
      "0   495000  1527         2        1.5      Suburb        1956       Good\n",
      "1   752000  2526         3        2.5    Downtown        1998  Excellent\n",
      "2   319000  1622         2        1.5       Rural        1975       Fair\n",
      "3  1210000  3102         4        3.0  Waterfront        2005  Excellent\n",
      "4   462000  1835         2        2.0       Urban        1982       Good\n"
     ]
    }
   ],
   "source": [
    "# -------------------------------------------------------------\n",
    "# Step 2: Load the raw dataset\n",
    "# -------------------------------------------------------------\n",
    "print(\"📥 Loading dataset...\")\n",
    "\n",
    "df = pd.read_csv(\"../data/raw/house_data.csv\")\n",
    "\n",
    "print(\"✅ Dataset loaded successfully!\")\n",
    "print(\"Initial data shape:\", df.shape)\n",
    "print(\"\\n🔍 Preview of data:\")\n",
    "print(df.head())\n"
   ]
  },
  {
   "cell_type": "code",
   "execution_count": 3,
   "id": "c2b950e8",
   "metadata": {},
   "outputs": [
    {
     "name": "stdout",
     "output_type": "stream",
     "text": [
      "\n",
      "📊 Data types and null value check:\n",
      "<class 'pandas.core.frame.DataFrame'>\n",
      "RangeIndex: 84 entries, 0 to 83\n",
      "Data columns (total 7 columns):\n",
      " #   Column      Non-Null Count  Dtype  \n",
      "---  ------      --------------  -----  \n",
      " 0   price       84 non-null     int64  \n",
      " 1   sqft        84 non-null     int64  \n",
      " 2   bedrooms    84 non-null     int64  \n",
      " 3   bathrooms   84 non-null     float64\n",
      " 4   location    84 non-null     object \n",
      " 5   year_built  84 non-null     int64  \n",
      " 6   condition   84 non-null     object \n",
      "dtypes: float64(1), int64(4), object(2)\n",
      "memory usage: 4.7+ KB\n",
      "None\n",
      "\n",
      "❓ Any missing values?\n",
      "price         0\n",
      "sqft          0\n",
      "bedrooms      0\n",
      "bathrooms     0\n",
      "location      0\n",
      "year_built    0\n",
      "condition     0\n",
      "dtype: int64\n"
     ]
    }
   ],
   "source": [
    "# -------------------------------------------------------------\n",
    "# Step 3: Understand structure — schema, datatypes, nulls\n",
    "# -------------------------------------------------------------\n",
    "print(\"\\n📊 Data types and null value check:\")\n",
    "print(df.info())\n",
    "\n",
    "print(\"\\n❓ Any missing values?\")\n",
    "print(df.isnull().sum())\n"
   ]
  },
  {
   "cell_type": "code",
   "execution_count": 4,
   "id": "07db6129",
   "metadata": {},
   "outputs": [],
   "source": [
    "# Step 3: Drop malformed rows (like the one with missing columns)\n",
    "df = df.dropna()\n",
    "df = df[df['price'] > 10000]  # basic sanity checks\n",
    "df = df[df['sqft'] > 200]"
   ]
  },
  {
   "cell_type": "code",
   "execution_count": 5,
   "id": "bdfc4ed3",
   "metadata": {},
   "outputs": [
    {
     "name": "stdout",
     "output_type": "stream",
     "text": [
      "\n",
      "🧹 Cleaning column names (lowercase, underscores)...\n",
      "✅ Column names standardized:\n",
      "['price', 'sqft', 'bedrooms', 'bathrooms', 'location', 'year_built', 'condition']\n"
     ]
    }
   ],
   "source": [
    "# -------------------------------------------------------------\n",
    "# Step 4: Standardize column names (basic cleanup)\n",
    "# -------------------------------------------------------------\n",
    "print(\"\\n🧹 Cleaning column names (lowercase, underscores)...\")\n",
    "\n",
    "df.columns = df.columns.str.strip().str.lower().str.replace(\" \", \"_\")\n",
    "print(\"✅ Column names standardized:\")\n",
    "print(df.columns.tolist())\n"
   ]
  },
  {
   "cell_type": "code",
   "execution_count": 6,
   "id": "a68cd985",
   "metadata": {},
   "outputs": [
    {
     "name": "stdout",
     "output_type": "stream",
     "text": [
      "\n",
      "📈 Basic summary stats for numeric columns:\n",
      "              price         sqft   bedrooms  bathrooms   year_built\n",
      "count  8.400000e+01    84.000000  84.000000  84.000000    84.000000\n",
      "mean   6.285595e+05  2191.500000   2.857143   2.190476  1982.047619\n",
      "std    3.591678e+05   650.017117   0.852252   0.828356    19.501563\n",
      "min    2.490000e+05  1350.000000   2.000000   1.000000  1947.000000\n",
      "25%    3.742500e+05  1695.000000   2.000000   1.500000  1965.000000\n",
      "50%    5.110000e+05  1995.000000   3.000000   2.000000  1982.500000\n",
      "75%    7.292500e+05  2590.000000   3.000000   2.500000  1995.500000\n",
      "max    1.680000e+06  3850.000000   5.000000   4.500000  2019.000000\n"
     ]
    }
   ],
   "source": [
    "# -------------------------------------------------------------\n",
    "# Step 5: Basic stats check (spot outliers or issues)\n",
    "# -------------------------------------------------------------\n",
    "print(\"\\n📈 Basic summary stats for numeric columns:\")\n",
    "print(df.describe())\n"
   ]
  },
  {
   "cell_type": "code",
   "execution_count": 7,
   "id": "aad7fb79",
   "metadata": {},
   "outputs": [
    {
     "name": "stdout",
     "output_type": "stream",
     "text": [
      "\n",
      "📊 Plotting distribution of house prices...\n"
     ]
    },
    {
     "data": {
      "image/png": "[encoded data removed]",
      "text/plain": [
       "<Figure size 800x500 with 1 Axes>"
      ]
     },
     "metadata": {},
     "output_type": "display_data"
    }
   ],
   "source": [
    "# -------------------------------------------------------------\n",
    "# Step 6: Visual check for distributions (e.g. price, sqft)\n",
    "# -------------------------------------------------------------\n",
    "print(\"\\n📊 Plotting distribution of house prices...\")\n",
    "\n",
    "plt.figure(figsize=(8, 5))\n",
    "sns.histplot(df[\"price\"], kde=True, bins=10)\n",
    "plt.title(\"Distribution of House Prices\")\n",
    "plt.xlabel(\"Price\")\n",
    "plt.ylabel(\"Count\")\n",
    "plt.show()\n"
   ]
  },
  {
   "cell_type": "code",
   "execution_count": 8,
   "id": "7e596b70",
   "metadata": {},
   "outputs": [
    {
     "name": "stdout",
     "output_type": "stream",
     "text": [
      "\n",
      "🔍 Looking for negative or unrealistic values...\n",
      "✅ No negative values found in price.\n",
      "✅ No negative values found in sqft.\n",
      "✅ No negative values found in bedrooms.\n",
      "✅ No negative values found in bathrooms.\n",
      "✅ No negative values found in year_built.\n"
     ]
    }
   ],
   "source": [
    "# -------------------------------------------------------------\n",
    "# Step 7: Check for obvious data issues\n",
    "# -------------------------------------------------------------\n",
    "print(\"\\n🔍 Looking for negative or unrealistic values...\")\n",
    "\n",
    "for col in ['price', 'sqft', 'bedrooms', 'bathrooms', 'year_built']:\n",
    "    invalid = df[df[col] < 0]\n",
    "    if not invalid.empty:\n",
    "        print(f\"⚠️ Found negative values in {col}:\\n{invalid}\")\n",
    "    else:\n",
    "        print(f\"✅ No negative values found in {col}.\")\n"
   ]
  },
  {
   "cell_type": "code",
   "execution_count": 9,
   "id": "539e313e",
   "metadata": {},
   "outputs": [
    {
     "name": "stdout",
     "output_type": "stream",
     "text": [
      "\n",
      "🧹 Checking for duplicate rows...\n",
      "✅ No duplicate rows found.\n"
     ]
    }
   ],
   "source": [
    "# -------------------------------------------------------------\n",
    "# Step 8: Drop duplicates if any\n",
    "# -------------------------------------------------------------\n",
    "print(\"\\n🧹 Checking for duplicate rows...\")\n",
    "\n",
    "duplicates = df.duplicated().sum()\n",
    "if duplicates > 0:\n",
    "    print(f\"⚠️ Found {duplicates} duplicate rows. Dropping them...\")\n",
    "    df = df.drop_duplicates()\n",
    "else:\n",
    "    print(\"✅ No duplicate rows found.\")\n"
   ]
  },
  {
   "cell_type": "code",
   "execution_count": 12,
   "id": "f2ba22c2",
   "metadata": {},
   "outputs": [
    {
     "name": "stdout",
     "output_type": "stream",
     "text": [
      "\n",
      "💾 Saving cleaned version to interim file (optional step)...\n",
      "✅ Data engineering preprocessing complete!\n"
     ]
    }
   ],
   "source": [
    "# -------------------------------------------------------------\n",
    "# Step 9: Save the cleaned version (optional here)\n",
    "# -------------------------------------------------------------\n",
    "print(\"\\n💾 Saving cleaned version to interim file (optional step)...\")\n",
    "\n",
    "# Uncomment if you want to save at this point\n",
    "df.to_csv(\"../data/processed/cleaned_house_data_v1.csv\", index=False)\n",
    "print(\"✅ Data engineering preprocessing complete!\")\n"
   ]
  },
  {
   "cell_type": "code",
   "execution_count": null,
   "id": "16bed936-9ef8-4199-8331-fb43904155bc",
   "metadata": {},
   "outputs": [],
   "source": []
  },
  {
   "cell_type": "code",
   "execution_count": null,
   "id": "685b3985-95bb-4ca8-a41c-880947d640c1",
   "metadata": {},
   "outputs": [],
   "source": []
  },
  {
   "cell_type": "code",
   "execution_count": null,
   "id": "7532573b-1174-4e7d-8897-803e345a8788",
   "metadata": {},
   "outputs": [],
   "source": []
  },
  {
   "cell_type": "code",
   "execution_count": null,
   "id": "c9775a57-1b1c-402b-9891-a2fa5ad5de08",
   "metadata": {},
   "outputs": [],
   "source": []
  },
  {
   "cell_type": "code",
   "execution_count": null,
   "id": "6cf76493-3e65-4b66-8af4-dc72d1b6e8fc",
   "metadata": {},
   "outputs": [],
   "source": []
  },
  {
   "cell_type": "code",
   "execution_count": null,
   "id": "f0ea3de6-6408-4a0c-8872-67669431675d",
   "metadata": {},
   "outputs": [],
   "source": []
  }
 ],
 "metadata": {
  "kernelspec": {
   "display_name": "Python 3 (ipykernel)",
   "language": "python",
   "name": "python3"
  },
  "language_info": {
   "codemirror_mode": {
    "name": "ipython",
    "version": 3
   },
   "file_extension": ".py",
   "mimetype": "text/x-python",
   "name": "python",
   "nbconvert_exporter": "python",
   "pygments_lexer": "ipython3",
   "version": "3.11.12"
  }
 },
 "nbformat": 4,
 "nbformat_minor": 5
}
